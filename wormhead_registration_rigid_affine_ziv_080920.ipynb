{
 "cells": [
  {
   "cell_type": "code",
   "execution_count": null,
   "metadata": {},
   "outputs": [],
   "source": [
    "import SimpleITK as sitk\n",
    "%matplotlib inline\n",
    "import matplotlib.pyplot as plt\n",
    "import numpy as np\n",
    "import util\n",
    "import registration_callbacks\n",
    "import os\n",
    "from IPython.display import display, HTML "
   ]
  },
  {
   "cell_type": "code",
   "execution_count": null,
   "metadata": {},
   "outputs": [],
   "source": [
    "dirname_data = './datasets/2019-03-05/'"
   ]
  },
  {
   "cell_type": "markdown",
   "metadata": {},
   "source": [
    "### Load the images"
   ]
  },
  {
   "cell_type": "code",
   "execution_count": null,
   "metadata": {},
   "outputs": [],
   "source": [
    "view0 = sitk.ReadImage(os.path.normpath(dirname_data + 'head_view0_cropped.mhd'), sitk.sitkFloat32)\n",
    "view1 = sitk.ReadImage(os.path.normpath(dirname_data + 'head_view1_cropped.mhd'), sitk.sitkFloat32)\n",
    "\n",
    "# The names view0 and view1 have a meaning in some context and they play the role of fixed and moving images\n",
    "# in the registration, so we use both naming conventions and they alias the relevant images.\n",
    "fixed_image = view0\n",
    "moving_image = view1"
   ]
  },
  {
   "cell_type": "code",
   "execution_count": null,
   "metadata": {},
   "outputs": [],
   "source": [
    "print(f\"Voxel size, um: {view0.GetSpacing()}\")\n",
    "\n",
    "print(f\"View0 size, px: {view0.GetSize()}\")\n",
    "print(f\"View1 size, px: {view1.GetSize()}\")\n",
    "\n",
    "print(util.get_minmax(view0))\n",
    "print(util.get_minmax(view1))\n",
    "\n",
    "img_merge = util.merge_images_rgb(view0, view1)\n",
    "\n",
    "fig = plt.figure(figsize=(10,10))\n",
    "util.show_mips(img_merge, \"Before registration: view0 (fixed, green), view1 (moving, magenta), overlap (white).\")"
   ]
  },
  {
   "cell_type": "markdown",
   "metadata": {},
   "source": [
    "## Registration flow\n",
    "\n",
    "We register in three steps:\n",
    "\n",
    "0. Basic initialization, centering the two volumes.\n",
    "1. Rigid registration, global transformation.\n",
    "2. Affine transformation, constrained so that scale is only along the x and z axes, shearing is not constrained."
   ]
  },
  {
   "cell_type": "markdown",
   "metadata": {},
   "source": [
    "### Initialization"
   ]
  },
  {
   "cell_type": "code",
   "execution_count": null,
   "metadata": {},
   "outputs": [],
   "source": [
    "rigid_transform = sitk.Euler3DTransform(sitk.CenteredTransformInitializer(fixed_image, moving_image, sitk.Euler3DTransform(), \n",
    "                                                                          sitk.CenteredTransformInitializerFilter.GEOMETRY))"
   ]
  },
  {
   "cell_type": "markdown",
   "metadata": {},
   "source": [
    "### Rigid registration\n",
    "\n",
    "We use a single level, no need for pyramid (Occam's razor - simplest solution is preferred). We also do the registration in place, the transform variable is just updated."
   ]
  },
  {
   "cell_type": "code",
   "execution_count": null,
   "metadata": {},
   "outputs": [],
   "source": [
    "registration_method = sitk.ImageRegistrationMethod()\n",
    "registration_method.SetMetricAsCorrelation()\n",
    "registration_method.SetMetricSamplingStrategy(registration_method.RANDOM)\n",
    "registration_method.SetMetricSamplingPercentage(0.01)\n",
    "registration_method.SetInterpolator(sitk.sitkLinear)\n",
    "\n",
    "registration_method.SetOptimizerAsGradientDescent(learningRate=1.0, numberOfIterations=300)\n",
    "# Scale the step size differently for each parameter, this is critical!!!\n",
    "registration_method.SetOptimizerScalesFromPhysicalShift() \n",
    "\n",
    "registration_method.SetInitialTransform(rigid_transform, inPlace=True)\n",
    "\n",
    "registration_method.AddCommand(sitk.sitkStartEvent, registration_callbacks.metric_start_plot)\n",
    "registration_method.AddCommand(sitk.sitkEndEvent, registration_callbacks.metric_end_plot)\n",
    "registration_method.AddCommand(sitk.sitkMultiResolutionIterationEvent, \n",
    "                              registration_callbacks.metric_update_multires_iterations) \n",
    "registration_method.AddCommand(sitk.sitkIterationEvent, \n",
    "                              lambda: registration_callbacks.metric_plot_values(registration_method))\n",
    "\n",
    "registration_method.Execute(fixed=fixed_image, moving=moving_image)\n",
    "print('Optimizer\\'s stopping condition, {0}'.format(registration_method.GetOptimizerStopConditionDescription()))\n",
    "print('Final metric value: {0}'.format(registration_method.GetMetricValue()))"
   ]
  },
  {
   "cell_type": "code",
   "execution_count": null,
   "metadata": {},
   "outputs": [],
   "source": [
    "view1_registered = sitk.Resample(view1, view0, rigid_transform, sitk.sitkLinear, 0.0, view0.GetPixelID())\n",
    "img_merge = util.merge_images_rgb(view0, view1_registered)\n",
    "\n",
    "fig = plt.figure(figsize=(10,10))\n",
    "util.show_mips(img_merge, \"Rigid registration: view0 (fixed, green), view1 (moving, magenta), overlap (white).\", scalebar=10)"
   ]
  },
  {
   "cell_type": "markdown",
   "metadata": {},
   "source": [
    "### Affine transformation\n",
    "\n",
    "Register using affine transformation. Use the same center point as the rigid. Use `SetOptimizerWeights` to limit the optimized parameters so that it only includes scaling in x and z and shearing, no translation.\n",
    "\n",
    "Affine transformation is represented as a homogenous matrix:\n",
    "\n",
    "$$\n",
    "\\left[\\begin{array}{cccc}\n",
    "a_1 & a_2 & a_3 & a_{10}\\\\\n",
    "a_4 & a_5 & a_6 & a_{11}\\\\\n",
    "a_7 & a_8 & a_9 & a_{12}\\\\\n",
    "0   & 0   & 0   & 1\n",
    "\\end{array}\\right]\n",
    "$$\n",
    "\n",
    "We don't want to optimize parameters $a_5$ (scaling in y) and $a_{10}, a_{11}, a_{12}$ (translation)."
   ]
  },
  {
   "cell_type": "code",
   "execution_count": null,
   "metadata": {},
   "outputs": [],
   "source": [
    "affine_transform = sitk.AffineTransform(3)\n",
    "affine_transform.SetCenter(rigid_transform.GetCenter())\n",
    "\n",
    "registration_method = sitk.ImageRegistrationMethod()\n",
    "registration_method.SetMetricAsCorrelation()\n",
    "registration_method.SetMetricSamplingStrategy(registration_method.RANDOM)\n",
    "registration_method.SetMetricSamplingPercentage(0.01)\n",
    "registration_method.SetInterpolator(sitk.sitkLinear)\n",
    "registration_method.SetOptimizerAsGradientDescent(learningRate=1.0, numberOfIterations=300)\n",
    "\n",
    "# Constrain the transformation to optimize only the desired parameters.\n",
    "registration_method.SetOptimizerWeights([1,1,1,1,0,1,1,1,1,0,0,0])\n",
    "# Scale the step size differently for each parameter, this is critical!!!\n",
    "registration_method.SetOptimizerScalesFromPhysicalShift() \n",
    "\n",
    "registration_method.SetInitialTransform(affine_transform, inPlace=True)\n",
    "registration_method.SetMovingInitialTransform(rigid_transform)\n",
    "\n",
    "registration_method.AddCommand(sitk.sitkStartEvent, registration_callbacks.metric_start_plot)\n",
    "registration_method.AddCommand(sitk.sitkEndEvent, registration_callbacks.metric_end_plot)\n",
    "registration_method.AddCommand(sitk.sitkMultiResolutionIterationEvent, \n",
    "                              registration_callbacks.metric_update_multires_iterations) \n",
    "registration_method.AddCommand(sitk.sitkIterationEvent, \n",
    "                              lambda: registration_callbacks.metric_plot_values(registration_method))\n",
    "\n",
    "registration_method.Execute(fixed=fixed_image, moving=moving_image)\n",
    "# Need to compose the transformations after registration.\n",
    "final_transform = sitk.CompositeTransform([affine_transform, rigid_transform])\n",
    "\n",
    "print('Optimizer\\'s stopping condition, {0}'.format(registration_method.GetOptimizerStopConditionDescription()))\n",
    "print('Final metric value: {0}'.format(registration_method.GetMetricValue()))"
   ]
  },
  {
   "cell_type": "code",
   "execution_count": null,
   "metadata": {},
   "outputs": [],
   "source": [
    "view1_registered = sitk.Resample(view1, view0, final_transform, sitk.sitkLinear, 0.0, view0.GetPixelID())\n",
    "img_merge = util.merge_images_rgb(view0, view1_registered)\n",
    "\n",
    "fig = plt.figure(figsize=(10,10))\n",
    "util.show_mips(img_merge, \"Rigid-Scale: view0 (fixed, green), view1 (moving, magenta), overlap (white).\", scalebar=10)"
   ]
  },
  {
   "cell_type": "code",
   "execution_count": null,
   "metadata": {},
   "outputs": [],
   "source": [
    "print(final_transform)"
   ]
  },
  {
   "cell_type": "code",
   "execution_count": null,
   "metadata": {},
   "outputs": [],
   "source": []
  }
 ],
 "metadata": {
  "kernelspec": {
   "display_name": "Python [default]",
   "language": "python",
   "name": "python3"
  },
  "language_info": {
   "codemirror_mode": {
    "name": "ipython",
    "version": 3
   },
   "file_extension": ".py",
   "mimetype": "text/x-python",
   "name": "python",
   "nbconvert_exporter": "python",
   "pygments_lexer": "ipython3",
   "version": "3.6.5"
  }
 },
 "nbformat": 4,
 "nbformat_minor": 4
}
